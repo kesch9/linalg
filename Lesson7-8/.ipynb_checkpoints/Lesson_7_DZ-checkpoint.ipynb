{
 "cells": [
  {
   "cell_type": "markdown",
   "metadata": {},
   "source": [
    "__1.__ Решить систему уравнений методом Крамера:\n",
    "\n",
    "   а) $\\begin{cases}\n",
    "x_{1}-2x_{2}=1 \\\\\n",
    "3x_{1}-4x_{2}=7\n",
    "\\end{cases}$\n",
    "    \n",
    "   б) $\\begin{cases}\n",
    "2x_{1}-x_{2}+5x_{3}=10 \\\\\n",
    "x_{1}+x_{2}-3x_{3}=-2 \\\\\n",
    "2x_{1}+4x_{2}+x_{3}=1\n",
    "\\end{cases}$"
   ]
  },
  {
   "cell_type": "code",
   "execution_count": 1,
   "metadata": {},
   "outputs": [],
   "source": [
    "import numpy as np"
   ]
  },
  {
   "cell_type": "code",
   "execution_count": 25,
   "metadata": {},
   "outputs": [
    {
     "name": "stdout",
     "output_type": "stream",
     "text": [
      "Определитель detA = 2\n",
      "Определитель detA1 = 10\n",
      "Определитель detA2 = 4\n",
      "x1 = 5\n",
      "x2 = 2\n"
     ]
    }
   ],
   "source": [
    "a = np.array([[1, -2], [3, -4]])\n",
    "detA = np.linalg.det(a)\n",
    "print(f'Определитель detA = {detA:.0f}')\n",
    "a1 = np.array([[1, -2], [7, -4]])\n",
    "detA1 = np.linalg.det(a1)\n",
    "print(f'Определитель detA1 = {detA1:.0f}')\n",
    "a2 = np.array([[1, 1], [3, 7]])\n",
    "detA2 = np.linalg.det(a2)\n",
    "print(f'Определитель detA2 = {detA2:.0f}')\n",
    "print(f'x1 = {(detA1/detA):.0f}')\n",
    "print(f'x2 = {(detA2/detA):.0f}')"
   ]
  },
  {
   "cell_type": "code",
   "execution_count": 10,
   "metadata": {},
   "outputs": [
    {
     "name": "stdout",
     "output_type": "stream",
     "text": [
      "Определитель detA = 43\n",
      "Определитель detA1 = 86\n",
      "Определитель detA2 = -43\n",
      "Определитель detA3 = -43\n",
      "x1 = 2\n",
      "x2 = -1\n",
      "x3 = -1\n"
     ]
    }
   ],
   "source": [
    "a = np.array([[2, -1, 5], [1, 1, -3],[2, 4, 1]])\n",
    "detA = np.linalg.det(a)\n",
    "print(f'Определитель detA = {detA:.0f}')\n",
    "a1 = np.array([[10, -1, 5], [-2, 1, -3],[1, 4, 1]])\n",
    "detA1 = np.linalg.det(a1)\n",
    "print(f'Определитель detA1 = {detA1:.0f}')\n",
    "a2 = np.array([[2, 10, 5], [1, -2, -3],[2, 1, 1]])\n",
    "detA2 = np.linalg.det(a2)\n",
    "print(f'Определитель detA2 = {detA2:.0f}')\n",
    "a3 = np.array([[2, -1, 10], [1, 1, -2],[2, 4, 1]])\n",
    "detA3 = np.linalg.det(a2)\n",
    "print(f'Определитель detA3 = {detA3:.0f}')\n",
    "print(f'x1 = {(detA1/detA):.0f}')\n",
    "print(f'x2 = {(detA2/detA):.0f}')\n",
    "print(f'x3 = {(detA3/detA):.0f}')"
   ]
  },
  {
   "cell_type": "markdown",
   "metadata": {},
   "source": [
    "__2.__ Найти $L$-матрицу $LU$-разложения для матрицы коэффициентов:\n",
    "\n",
    "   а)$$\\begin{pmatrix}\n",
    "1 & 2 & 4 \\\\ \n",
    "2 & 9 & 12 \\\\ \n",
    "3 & 26 & 30\n",
    "\\end{pmatrix}$$\n",
    "    \n",
    "   б)$$\\begin{pmatrix}\n",
    "1 & 1 & 2 & 4\\\\ \n",
    "2 & 5 & 8 & 9\\\\ \n",
    "3 & 18 & 29 & 18\\\\\n",
    "4 & 22 & 53 & 33\n",
    "\\end{pmatrix}$$"
   ]
  },
  {
   "cell_type": "markdown",
   "metadata": {},
   "source": [
    "а)$$\\begin{pmatrix}\n",
    "1 & 2 & 4 \\\\ \n",
    "2 & 9 & 12 \\\\ \n",
    "3 & 26 & 30\n",
    "\\end{pmatrix}$$"
   ]
  },
  {
   "cell_type": "markdown",
   "metadata": {},
   "source": [
    "$$\\begin{pmatrix}\n",
    "1 & 2 & 4 \\\\ \n",
    "0 & 5 & 4 \\\\ \n",
    "0 & 20 & 18\n",
    "\\end{pmatrix}$$"
   ]
  },
  {
   "cell_type": "markdown",
   "metadata": {},
   "source": [
    "U = \\begin{pmatrix}\n",
    "1 & 2 & 4 \\\\ \n",
    "0 & 5 & 4 \\\\ \n",
    "0 & 0 & 2\n",
    "\\end{pmatrix}\n",
    "L = \\begin{pmatrix}\n",
    "1 & 0 & 0 \\\\ \n",
    "2 & 1 & 0 \\\\ \n",
    "3 & 4 & 1\n",
    "\\end{pmatrix}"
   ]
  },
  {
   "cell_type": "markdown",
   "metadata": {},
   "source": [
    "б)$$\\begin{pmatrix}\n",
    "1 & 1 & 2 & 4\\\\ \n",
    "2 & 5 & 8 & 9\\\\ \n",
    "3 & 18 & 29 & 18\\\\\n",
    "4 & 22 & 53 & 33\n",
    "\\end{pmatrix}$$"
   ]
  },
  {
   "cell_type": "markdown",
   "metadata": {},
   "source": [
    "$$\\begin{pmatrix}\n",
    "1 & 1 & 2 & 4\\\\ \n",
    "0 & 3 & 4 & 1\\\\ \n",
    "0 & 15 & 23 & 6\\\\\n",
    "0 & 18 & 45 & 27\n",
    "\\end{pmatrix}$$"
   ]
  },
  {
   "cell_type": "markdown",
   "metadata": {},
   "source": [
    "$$\\begin{pmatrix}\n",
    "1 & 1 & 2 & 4\\\\ \n",
    "0 & 3 & 4 & 1\\\\ \n",
    "0 & 0 & 3 & 1\\\\\n",
    "0 & 0 & 21 & 21\n",
    "\\end{pmatrix}$$"
   ]
  },
  {
   "cell_type": "markdown",
   "metadata": {},
   "source": [
    "U = $$\\begin{pmatrix}\n",
    "1 & 1 & 2 & 4\\\\ \n",
    "0 & 3 & 4 & 1\\\\ \n",
    "0 & 0 & 3 & 1\\\\\n",
    "0 & 0 & 0 & 14\n",
    "\\end{pmatrix}$$\n",
    "L = $$\\begin{pmatrix}\n",
    "1 & 0 & 0 & 0\\\\ \n",
    "2 & 1 & 0 & 0\\\\ \n",
    "3 & 5 & 1 & 0\\\\\n",
    "4 & 6 & 7 & 1\n",
    "\\end{pmatrix}$$"
   ]
  },
  {
   "cell_type": "markdown",
   "metadata": {},
   "source": [
    "__3.__ Решить систему линейных уравнений методом $LU$-разложения\n",
    "\n",
    "$$\\begin{cases}\n",
    "2x_{1}+x_{2}+3x_{3}=1 \\\\\n",
    "11x_{1}+7x_{2}+5x_{3}=-6 \\\\\n",
    "9x_{1}+8x_{2}+4x_{3}=-5\n",
    "\\end{cases}$$"
   ]
  },
  {
   "cell_type": "code",
   "execution_count": 27,
   "metadata": {},
   "outputs": [],
   "source": [
    "import pprint\n",
    "import scipy\n",
    "import scipy.linalg\n",
    "import numpy as np"
   ]
  },
  {
   "cell_type": "code",
   "execution_count": 36,
   "metadata": {},
   "outputs": [
    {
     "name": "stdout",
     "output_type": "stream",
     "text": [
      "P:\n",
      "array([[0., 0., 1.],\n",
      "       [1., 0., 0.],\n",
      "       [0., 1., 0.]])\n",
      "L:\n",
      "array([[ 1.        ,  0.        ,  0.        ],\n",
      "       [ 0.81818182,  1.        ,  0.        ],\n",
      "       [ 0.18181818, -0.12      ,  1.        ]])\n",
      "U:\n",
      "array([[11.        ,  7.        ,  5.        ],\n",
      "       [ 0.        ,  2.27272727, -0.09090909],\n",
      "       [ 0.        ,  0.        ,  2.08      ]])\n"
     ]
    }
   ],
   "source": [
    "A = scipy.array([ [2, 1, 3], [11, 7, 5], [9, 8, 4] ])\n",
    "b =  scipy.array([1, -6, -5])\n",
    "P, L, U = scipy.linalg.lu(A)\n",
    "print ('P:')\n",
    "pprint.pprint(P)\n",
    "print ('L:')\n",
    "pprint.pprint(L)\n",
    "print ('U:')\n",
    "pprint.pprint(U)"
   ]
  },
  {
   "cell_type": "code",
   "execution_count": 37,
   "metadata": {},
   "outputs": [
    {
     "name": "stdout",
     "output_type": "stream",
     "text": [
      "[ 1.         -6.81818182 -6.        ]\n"
     ]
    }
   ],
   "source": [
    "y = np.linalg.solve(L, b)\n",
    "print(y)"
   ]
  },
  {
   "cell_type": "code",
   "execution_count": 38,
   "metadata": {},
   "outputs": [
    {
     "name": "stdout",
     "output_type": "stream",
     "text": [
      "[ 3.38461538 -3.11538462 -2.88461538]\n"
     ]
    }
   ],
   "source": [
    "x = np.linalg.solve(U, y)\n",
    "print(x)"
   ]
  },
  {
   "cell_type": "markdown",
   "metadata": {},
   "source": [
    "__4.__ Решить систему линейных уравнений методом Холецкого\n",
    "\n",
    "$$\\begin{cases}\n",
    "81x_{1}-45x_{2}+45x_{3}=531 \\\\\n",
    "-45x_{1}+50x_{2}-15x_{3}=-460 \\\\\n",
    "45x_{1}-15x_{2}+38x_{3}=193\n",
    "\\end{cases}$$"
   ]
  },
  {
   "cell_type": "code",
   "execution_count": 21,
   "metadata": {},
   "outputs": [
    {
     "name": "stdout",
     "output_type": "stream",
     "text": [
      "P:\n",
      "array([[1., 0., 0.],\n",
      "       [0., 1., 0.],\n",
      "       [0., 0., 1.]])\n",
      "L:\n",
      "array([[ 1.        ,  0.        ,  0.        ],\n",
      "       [-0.55555556,  1.        ,  0.        ],\n",
      "       [ 0.55555556,  0.4       ,  1.        ]])\n",
      "U:\n",
      "array([[ 81., -45.,  45.],\n",
      "       [  0.,  25.,  10.],\n",
      "       [  0.,   0.,   9.]])\n"
     ]
    }
   ],
   "source": [
    "A = scipy.array([ [81, -45, 45], [-45, 50, -15], [45, -15, 38] ])\n",
    "P, L, U = scipy.linalg.lu(A)\n",
    "print ('P:')\n",
    "pprint.pprint(P)\n",
    "print ('L:')\n",
    "pprint.pprint(L)\n",
    "print ('U:')\n",
    "pprint.pprint(U)"
   ]
  },
  {
   "cell_type": "code",
   "execution_count": 34,
   "metadata": {},
   "outputs": [
    {
     "name": "stdout",
     "output_type": "stream",
     "text": [
      "L:\n",
      "array([[ 9.,  0.,  0.],\n",
      "       [-5.,  5.,  0.],\n",
      "       [ 5.,  2.,  3.]])\n",
      "LT:\n",
      "array([[ 9., -5.,  5.],\n",
      "       [ 0.,  5.,  2.],\n",
      "       [ 0.,  0.,  3.]])\n"
     ]
    }
   ],
   "source": [
    "from numpy.linalg import cholesky\n",
    "A = scipy.array([ [81, -45, 45], [-45, 50, -15], [45, -15, 38] ])\n",
    "b = scipy.array([531, -460, 193])\n",
    "L = cholesky(A)\n",
    "print ('L:')\n",
    "pprint.pprint(L)\n",
    "print ('LT:')\n",
    "pprint.pprint(L.T)"
   ]
  },
  {
   "cell_type": "code",
   "execution_count": 32,
   "metadata": {},
   "outputs": [
    {
     "name": "stdout",
     "output_type": "stream",
     "text": [
      "[ 59. -33. -12.]\n"
     ]
    }
   ],
   "source": [
    "y = np.linalg.solve(L, b)\n",
    "print(y)"
   ]
  },
  {
   "cell_type": "code",
   "execution_count": 35,
   "metadata": {},
   "outputs": [
    {
     "name": "stdout",
     "output_type": "stream",
     "text": [
      "[ 6. -5. -4.]\n"
     ]
    }
   ],
   "source": [
    "x = np.linalg.solve(L.T, y)\n",
    "print(x)"
   ]
  },
  {
   "cell_type": "code",
   "execution_count": null,
   "metadata": {},
   "outputs": [],
   "source": []
  }
 ],
 "metadata": {
  "kernelspec": {
   "display_name": "Python 3",
   "language": "python",
   "name": "python3"
  },
  "language_info": {
   "codemirror_mode": {
    "name": "ipython",
    "version": 3
   },
   "file_extension": ".py",
   "mimetype": "text/x-python",
   "name": "python",
   "nbconvert_exporter": "python",
   "pygments_lexer": "ipython3",
   "version": "3.7.3"
  }
 },
 "nbformat": 4,
 "nbformat_minor": 2
}
